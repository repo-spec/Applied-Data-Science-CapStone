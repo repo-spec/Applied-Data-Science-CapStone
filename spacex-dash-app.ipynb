{
 "cells": [
  {
   "cell_type": "code",
   "execution_count": 53,
   "id": "d1f0869c",
   "metadata": {},
   "outputs": [
    {
     "data": {
      "text/html": [
       "\n",
       "        <iframe\n",
       "            width=\"100%\"\n",
       "            height=\"650\"\n",
       "            src=\"http://127.0.0.1:8050/\"\n",
       "            frameborder=\"0\"\n",
       "            allowfullscreen\n",
       "            \n",
       "        ></iframe>\n",
       "        "
      ],
      "text/plain": [
       "<IPython.lib.display.IFrame at 0x1608a671930>"
      ]
     },
     "metadata": {},
     "output_type": "display_data"
    }
   ],
   "source": [
    "# Import required libraries\n",
    "import pandas as pd\n",
    "import dash\n",
    "from dash import html\n",
    "from dash import dcc\n",
    "from dash.dependencies import Input, Output\n",
    "import plotly.express as px\n",
    "\n",
    "# Read the airline data into pandas dataframe\n",
    "spacex_df = pd.read_csv(\"D://spacex_launch_dash.csv\")\n",
    "max_payload = spacex_df['Payload Mass (kg)'].max()\n",
    "min_payload = spacex_df['Payload Mass (kg)'].min()\n",
    "\n",
    "# Create a dash application\n",
    "app = dash.Dash(__name__)\n",
    "\n",
    "# Create an app layout\n",
    "app.layout = html.Div(children=[html.H1('SpaceX Launch Records Dashboard',\n",
    "                                        style={'textAlign': 'center', 'color': '#503D36',\n",
    "                                               'font-size': 40}),\n",
    "                                # TASK 1: Add a dropdown list to enable Launch Site selection\n",
    "                                # The default select value is for ALL sites\n",
    "                                dcc.Dropdown(id='site-dropdown',options=[{'label':'All Sites','value':'ALL'},{'label':'CCAFS LC-40','value':'CCAFS LC-40'},{'label':'CCAFS SLC-40','value':'CCAFS SLC-40'},{'label':'KSC LC-39A','value':'KSC LC-39A'},{'label':'VAFB SLC-4E','value':'VAFB SLC-4E'},],value='ALL',placeholder='place holder here',searchable=True),\n",
    "                                html.Br(),\n",
    "\n",
    "                                # TASK 2: Add a pie chart to show the total successful launches count for all sites\n",
    "                                # If a specific launch site was selected, show the Success vs. Failed counts for the site\n",
    "                                html.Div(dcc.Graph(id='success-pie-chart')),\n",
    "                                html.Br(),\n",
    "\n",
    "                                html.P(\"Payload range (Kg):\"),\n",
    "                                # TASK 3: Add a slider to select payload range\n",
    "                                html.Div(dcc.RangeSlider(id='payload-slider',min=0,max=10000,step=1000,value=[min_payload,max_payload])),\n",
    "                                html.Br(),\n",
    "\n",
    "                                # TASK 4: Add a scatter chart to show the correlation between payload and launch success\n",
    "                                html.Div(dcc.Graph(id='success-payload-scatter-chart')),\n",
    "                                ])\n",
    "\n",
    "# TASK 2:\n",
    "# Add a callback function for `site-dropdown` as input, `success-pie-chart` as output\n",
    "@app.callback(Output(component_id='success-pie-chart',component_property='figure'),\n",
    "              Input(component_id='site-dropdown',component_property='value'))\n",
    "def get_pie_chart(entered_site):\n",
    "    \n",
    "    if entered_site=='ALL':\n",
    "        fig=px.pie(spacex_df,values='class',names='Launch Site',title='Success Pie Chart')\n",
    "        return fig\n",
    "    else:\n",
    "        spacex_df1=spacex_df.groupby(['Launch Site','class'])['class'].count()\n",
    "\n",
    "        spacex_df1=spacex_df1.to_frame()\n",
    "        spacex_df1.rename(columns={'class':'Number_of_class'},inplace=True)\n",
    "        spacex_df1.reset_index(inplace=True)\n",
    "        spacex_df1_filtered=spacex_df1[spacex_df1['Launch Site']==entered_site]        \n",
    "        return px.pie(spacex_df1_filtered,values='Number_of_class',names='class',title=entered_site)\n",
    "# TASK 4:\n",
    "# Add a callback function for `site-dropdown` and `payload-slider` as inputs, `success-payload-scatter-chart` as output\n",
    "@app.callback(Output(component_id='success-payload-scatter-chart',component_property='figure'),\n",
    "              Input(component_id='site-dropdown',component_property='value'),\n",
    "              Input(component_id='payload-slider',component_property='value'))\n",
    "def get_scatter_plot(entered_site,payload):\n",
    "    if entered_site=='ALL':\n",
    "        return px.scatter(spacex_df,x='Payload Mass (kg)',y='class',color='Booster Version Category')             \n",
    "    else:\n",
    "        spacex_df_filtered=spacex_df[spacex_df['Launch Site']==entered_site]   \n",
    "        \n",
    "        return px.scatter(spacex_df_filtered,x='Payload Mass (kg)',y='class',color='Booster Version Category')\n",
    "\n",
    "# Run the app\n",
    "if __name__ == '__main__':\n",
    "    app.run()\n"
   ]
  }
 ],
 "metadata": {
  "kernelspec": {
   "display_name": "Python 3 (ipykernel)",
   "language": "python",
   "name": "python3"
  },
  "language_info": {
   "codemirror_mode": {
    "name": "ipython",
    "version": 3
   },
   "file_extension": ".py",
   "mimetype": "text/x-python",
   "name": "python",
   "nbconvert_exporter": "python",
   "pygments_lexer": "ipython3",
   "version": "3.10.9"
  }
 },
 "nbformat": 4,
 "nbformat_minor": 5
}
